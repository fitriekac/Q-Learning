{
 "cells": [
  {
   "cell_type": "code",
   "execution_count": 38,
   "metadata": {},
   "outputs": [],
   "source": [
    "import numpy as np\n",
    "import matplotlib.pyplot as plt\n",
    "import pandas as pd"
   ]
  },
  {
   "cell_type": "code",
   "execution_count": 39,
   "metadata": {},
   "outputs": [],
   "source": [
    "# read data txt untuk dijadikan sebagai list\n",
    "data = np.genfromtxt(\"tabel.txt\", dtype= float)"
   ]
  },
  {
   "cell_type": "code",
   "execution_count": 40,
   "metadata": {},
   "outputs": [
    {
     "data": {
      "text/plain": [
       "array([[ -1.,  -2.,  -3.,  -2.,  -3.,  -3.,  -4.,  -1.,  -4.,  -2.,  -1.,\n",
       "         -2.,  -3.,  -3., 500.],\n",
       "       [ -1.,  -3.,  -1.,  -2.,  -4.,  -1.,  -4.,  -1.,  -4.,  -2.,  -4.,\n",
       "         -2.,  -2.,  -2.,  -1.],\n",
       "       [ -4.,  -2.,  -1.,  -4.,  -2.,  -1.,  -2.,  -4.,  -2.,  -3.,  -2.,\n",
       "         -1.,  -2.,  -4.,  -4.],\n",
       "       [ -4.,  -2.,  -4.,  -1.,  -3.,  -2.,  -3.,  -2.,  -4.,  -2.,  -4.,\n",
       "         -1.,  -2.,  -4.,  -2.],\n",
       "       [ -4.,  -2.,  -2.,  -3.,  -2.,  -3.,  -1.,  -1.,  -4.,  -2.,  -1.,\n",
       "         -3.,  -4.,  -2.,  -4.],\n",
       "       [ -4.,  -3.,  -3.,  -4.,  -2.,  -3.,  -4.,  -2.,  -2.,  -1.,  -1.,\n",
       "         -2.,  -1.,  -2.,  -1.],\n",
       "       [ -2.,  -3.,  -2.,  -1.,  -1.,  -3.,  -2.,  -1.,  -4.,  -3.,  -1.,\n",
       "         -1.,  -2.,  -3.,  -3.],\n",
       "       [ -3.,  -1.,  -1.,  -4.,  -4.,  -3.,  -1.,  -2.,  -3.,  -1.,  -1.,\n",
       "         -4.,  -4.,  -3.,  -3.],\n",
       "       [ -3.,  -1.,  -4.,  -2.,  -3.,  -3.,  -1.,  -4.,  -4.,  -4.,  -2.,\n",
       "         -2.,  -2.,  -2.,  -1.],\n",
       "       [ -3.,  -4.,  -4.,  -2.,  -3.,  -4.,  -3.,  -3.,  -2.,  -2.,  -3.,\n",
       "         -4.,  -3.,  -4.,  -1.],\n",
       "       [ -3.,  -4.,  -1.,  -1.,  -1.,  -4.,  -4.,  -4.,  -4.,  -1.,  -2.,\n",
       "         -4.,  -2.,  -2.,  -1.],\n",
       "       [ -1.,  -3.,  -3.,  -3.,  -3.,  -3.,  -3.,  -3.,  -4.,  -1.,  -2.,\n",
       "         -4.,  -1.,  -2.,  -4.],\n",
       "       [ -2.,  -2.,  -1.,  -2.,  -2.,  -2.,  -4.,  -3.,  -1.,  -4.,  -1.,\n",
       "         -4.,  -2.,  -2.,  -2.],\n",
       "       [ -2.,  -1.,  -3.,  -1.,  -4.,  -4.,  -1.,  -3.,  -3.,  -1.,  -1.,\n",
       "         -2.,  -3.,  -4.,  -3.],\n",
       "       [ -2.,  -2.,  -1.,  -4.,  -4.,  -4.,  -2.,  -2.,  -3.,  -1.,  -2.,\n",
       "         -2.,  -1.,  -1.,  -3.]])"
      ]
     },
     "execution_count": 40,
     "metadata": {},
     "output_type": "execute_result"
    }
   ],
   "source": [
    "data"
   ]
  },
  {
   "cell_type": "code",
   "execution_count": 41,
   "metadata": {},
   "outputs": [],
   "source": [
    "#inisiasi\n",
    "gamma = 0.9\n",
    "alpha = 1\n",
    "epsilon_init = 1\n",
    "iterasi= 100\n",
    "reward= 0\n",
    "eps = epsilon_init"
   ]
  },
  {
   "cell_type": "code",
   "execution_count": 42,
   "metadata": {},
   "outputs": [
    {
     "data": {
      "image/png": "[encoded data removed]",
      "text/plain": [
       "<Figure size 432x288 with 1 Axes>"
      ]
     },
     "metadata": {},
     "output_type": "display_data"
    }
   ],
   "source": [
    "#untuk plot ke tabel\n",
    "\n",
    "fig, ax = plt.subplots()\n",
    "\n",
    "# hide axes\n",
    "\n",
    "ax.axis('off')\n",
    "ax.axis('tight')\n",
    "\n",
    "df = pd.DataFrame(data, columns=list('ABCDEFGHIJKLMNO'))\n",
    "\n",
    "ax.table(cellText=df.values, colLabels=df.columns, loc='center')\n",
    "#fig.tight_layout()\n",
    "\n",
    "plt.show()"
   ]
  },
  {
   "cell_type": "code",
   "execution_count": 43,
   "metadata": {},
   "outputs": [],
   "source": [
    "state = []\n",
    "q_table = np.zeros((15,15,4))\n",
    "for i in range (1,iterasi):\n",
    "    state = [14,0]\n",
    "    while ((state[0] != 0) or (state[1] != 14)):\n",
    "        possible_aksi = []\n",
    "        action = -1\n",
    "        if (state[0] > 0):\n",
    "            possible_aksi.append(0)\n",
    "        if (state[1] < 14 ):\n",
    "            possible_aksi.append(1)\n",
    "        if (state[0] < 14):\n",
    "            possible_aksi.append(2)\n",
    "        if (state[1] > 0):\n",
    "            possible_aksi.append(3)\n",
    "            \n",
    "        if np.random.uniform(0,0.5) < eps:\n",
    "            action = np.random.choice(possible_aksi)\n",
    "        else:\n",
    "            temp = q_table[state[0]][state[1]]\n",
    "            possible_q = []\n",
    "            for i in range(len(temp)):\n",
    "                if i in possible_aksi:\n",
    "                    possible_q.append(temp[i])\n",
    "            action = np.argmax(possible_q)\n",
    "            \n",
    "        nilai_lama = q_table[state[0]][state[1]][action]\n",
    "        state_lama = np.copy(state)\n",
    "        \n",
    "        if (action ==0):\n",
    "            state[0] = state[0]-1\n",
    "        elif (action==1):\n",
    "            state[1]= state[1] +1\n",
    "        elif (action==2):\n",
    "            state[0] = state[0]+1\n",
    "        elif (action==3):\n",
    "            state[1]= state[1]-1\n",
    "            \n",
    "        selanjutnya = np.max(q_table[state[0]][state[1]])\n",
    "        reward_action = data[state[0]][state[1]]\n",
    "        \n",
    "        #update nilai q_table\n",
    "        q_table[state_lama[0]][state_lama[1]][action] = (1 - alpha) * nilai_lama + alpha * (reward_action + gamma * selanjutnya)\n",
    "    eps = epsilon_init * np.exp(-0.001*i)"
   ]
  },
  {
   "cell_type": "code",
   "execution_count": 44,
   "metadata": {},
   "outputs": [
    {
     "name": "stdout",
     "output_type": "stream",
     "text": [
      "Dari state: 14,0\n",
      "Ke state: 13,0\n",
      "Ke state: 13,1\n",
      "Ke state: 12,1\n",
      "Ke state: 12,2\n",
      "Ke state: 11,2\n",
      "Ke state: 10,2\n",
      "Ke state: 10,3\n",
      "Ke state: 10,4\n",
      "Ke state: 9,4\n",
      "Ke state: 8,4\n",
      "Ke state: 8,5\n",
      "Ke state: 8,6\n",
      "Ke state: 7,6\n",
      "Ke state: 6,6\n",
      "Ke state: 6,7\n",
      "Ke state: 5,7\n",
      "Ke state: 5,8\n",
      "Ke state: 5,9\n",
      "Ke state: 5,10\n",
      "Ke state: 4,10\n",
      "Ke state: 4,11\n",
      "Ke state: 3,11\n",
      "Ke state: 2,11\n",
      "Ke state: 1,11\n",
      "Ke state: 1,12\n",
      "Ke state: 1,13\n",
      "Ke state: 1,14\n",
      "Ke state: 0,14\n",
      "Reward: 455.0\n"
     ]
    }
   ],
   "source": [
    "#untuk lihat hasil\n",
    "state = [14,0]\n",
    "print(\"Dari state: {},{}\".format(state[0],state[1]))\n",
    "reward = 0\n",
    "while ((state[0] != 0) or (state[1] != 14)):\n",
    "    aksi = np.argmax(q_table[state[0]][state[1]])\n",
    "    old_value = q_table[state[0]][state[1]][action]\n",
    "\n",
    "    if (aksi ==0):\n",
    "        state[0] = state[0]-1\n",
    "    elif (aksi==1):\n",
    "        state[1]= state[1] +1\n",
    "    elif (aksi==2):\n",
    "        state[0] = state[0]+1\n",
    "    elif (aksi==3):\n",
    "        state[1]= state[1]-1\n",
    "    \n",
    "    print(\"Ke state: {},{}\".format(state[0],state[1]))\n",
    "    reward = reward + data[state[0]][state[1]]\n",
    "print(\"Reward: {}\".format(reward))\n",
    "nilai = reward.T"
   ]
  },
  {
   "cell_type": "code",
   "execution_count": null,
   "metadata": {},
   "outputs": [],
   "source": []
  },
  {
   "cell_type": "code",
   "execution_count": 8,
   "metadata": {},
   "outputs": [
    {
     "data": {
      "image/png": "[encoded data removed]",
      "text/plain": [
       "<Figure size 432x288 with 1 Axes>"
      ]
     },
     "metadata": {},
     "output_type": "display_data"
    }
   ],
   "source": []
  },
  {
   "cell_type": "code",
   "execution_count": null,
   "metadata": {},
   "outputs": [],
   "source": []
  }
 ],
 "metadata": {
  "kernelspec": {
   "display_name": "Python 3",
   "language": "python",
   "name": "python3"
  },
  "language_info": {
   "codemirror_mode": {
    "name": "ipython",
    "version": 3
   },
   "file_extension": ".py",
   "mimetype": "text/x-python",
   "name": "python",
   "nbconvert_exporter": "python",
   "pygments_lexer": "ipython3",
   "version": "3.6.5"
  }
 },
 "nbformat": 4,
 "nbformat_minor": 2
}
